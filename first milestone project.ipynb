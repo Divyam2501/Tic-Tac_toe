{
 "cells": [
  {
   "cell_type": "code",
   "execution_count": 1,
   "metadata": {},
   "outputs": [],
   "source": [
    "def display_board(board):\n",
    "    print(f'{board[6]} | {board[7]} | {board[8]}')\n",
    "    print( '_________')                \n",
    "    print(f'{board[3]} | {board[4]} | {board[5]}')\n",
    "    print( '_________')\n",
    "    print(f'{board[0]} | {board[1]} | {board[2]}')\n"
   ]
  },
  {
   "cell_type": "code",
   "execution_count": 3,
   "metadata": {},
   "outputs": [],
   "source": [
    "def player_input():\n",
    "    marker1='A'\n",
    "    while not( marker1=='X' or marker1=='O'):\n",
    "        marker1=input('player 1,please choose: \"X\" or \"O\"')\n",
    "    return marker1"
   ]
  },
  {
   "cell_type": "code",
   "execution_count": 5,
   "metadata": {},
   "outputs": [],
   "source": [
    "def place_in_cell(board,symbol):\n",
    "    position=int(input('Enter the position you want to fill in (from 1-9)'))\n",
    "    board[position-1]=symbol\n",
    "    return board"
   ]
  },
  {
   "cell_type": "code",
   "execution_count": 6,
   "metadata": {},
   "outputs": [],
   "source": [
    "def winner(board):\n",
    "    a=False\n",
    "    mylist=[0,3,6]\n",
    "    for i in mylist:\n",
    "        if board[i]==board[i+1] and board[i]==board[i+2] and board[i]!='':\n",
    "            a= True\n",
    "    if not a:\n",
    "        for i in [0,1,2]:\n",
    "            if board[i]==board[i+3] and board [i]==board[i+6] and board[i]!='':\n",
    "                a= True\n",
    "    if not a:\n",
    "        if board[0]==board[4]  and board[0]==board[8] and board[0]!='':\n",
    "            a=True\n",
    "        elif board[6]==board[4] and board[6]==board[2] and board[6]!='':\n",
    "            a=True\n",
    "    return a"
   ]
  },
  {
   "cell_type": "code",
   "execution_count": 8,
   "metadata": {},
   "outputs": [
    {
     "name": "stdout",
     "output_type": "stream",
     "text": [
      "player 1,please choose: \"X\" or \"O\"X\n",
      "player 1's turn\n",
      "Enter the position you want to fill in0\n",
      " |  | X\n",
      "_________\n",
      " |  | \n",
      "_________\n",
      " |  | \n",
      "player 2's turn\n",
      "Enter the position you want to fill in2\n",
      " |  | X\n",
      "_________\n",
      " |  | \n",
      "_________\n",
      " | O | \n",
      "player 1's turn\n",
      "Enter the position you want to fill in3\n",
      " |  | X\n",
      "_________\n",
      " |  | \n",
      "_________\n",
      " | O | X\n",
      "player 2's turn\n",
      "Enter the position you want to fill in4\n",
      " |  | X\n",
      "_________\n",
      "O |  | \n",
      "_________\n",
      " | O | X\n",
      "player 1's turn\n",
      "Enter the position you want to fill in5\n",
      " |  | X\n",
      "_________\n",
      "O | X | \n",
      "_________\n",
      " | O | X\n",
      "player 2's turn\n",
      "Enter the position you want to fill in6\n",
      " |  | X\n",
      "_________\n",
      "O | X | O\n",
      "_________\n",
      " | O | X\n",
      "player 1's turn\n",
      "Enter the position you want to fill in7\n",
      "X |  | X\n",
      "_________\n",
      "O | X | O\n",
      "_________\n",
      " | O | X\n",
      "the winner is player 1\n"
     ]
    }
   ],
   "source": [
    "board=['','','','','','','','','' ]\n",
    "player1=''\n",
    "player2=''\n",
    "player1=player_input()\n",
    "if player1=='X':\n",
    "    player2='O'\n",
    "else:\n",
    "    player2='X'\n",
    "game='on'\n",
    "while game=='on':\n",
    "    print(\"player 1's turn\")\n",
    "    board=place_in_cell(board,player1)\n",
    "    display_board(board)\n",
    "    if winner(board):\n",
    "        print('the winner is player 1')\n",
    "        game='off'\n",
    "        continue\n",
    "    print(\"player 2's turn\")\n",
    "    board=place_in_cell(board,player2)\n",
    "    display_board(board)\n",
    "    if winner(board):\n",
    "        print('winner is player 2')\n",
    "        game='off'\n",
    "        "
   ]
  },
  {
   "cell_type": "code",
   "execution_count": null,
   "metadata": {},
   "outputs": [],
   "source": []
  },
  {
   "cell_type": "code",
   "execution_count": null,
   "metadata": {},
   "outputs": [],
   "source": []
  },
  {
   "cell_type": "code",
   "execution_count": null,
   "metadata": {},
   "outputs": [],
   "source": []
  }
 ],
 "metadata": {
  "kernelspec": {
   "display_name": "Python 3 (ipykernel)",
   "language": "python",
   "name": "python3"
  },
  "language_info": {
   "codemirror_mode": {
    "name": "ipython",
    "version": 3
   },
   "file_extension": ".py",
   "mimetype": "text/x-python",
   "name": "python",
   "nbconvert_exporter": "python",
   "pygments_lexer": "ipython3",
   "version": "3.7.4"
  }
 },
 "nbformat": 4,
 "nbformat_minor": 2
}
